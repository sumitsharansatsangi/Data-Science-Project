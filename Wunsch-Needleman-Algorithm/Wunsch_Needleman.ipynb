{
 "cells": [
  {
   "cell_type": "code",
   "execution_count": 1,
   "metadata": {},
   "outputs": [],
   "source": [
    "gap_penalty = -1\n",
    "mismatch_penalty = -1\n",
    "match_award = 2"
   ]
  },
  {
   "cell_type": "code",
   "execution_count": 2,
   "metadata": {},
   "outputs": [],
   "source": [
    "seq1 = \"ATTACAGC\"\n",
    "seq2 = \"ATGC\""
   ]
  },
  {
   "cell_type": "code",
   "execution_count": 3,
   "metadata": {},
   "outputs": [],
   "source": [
    "def zeros(rows, cols):\n",
    "    retval = []\n",
    "    for x in range(rows):\n",
    "        retval.append([])\n",
    "        for y in range(cols):\n",
    "            retval[-1].append(0)\n",
    "    return retval\n"
   ]
  },
  {
   "cell_type": "code",
   "execution_count": 4,
   "metadata": {},
   "outputs": [],
   "source": [
    "def match_score(alpha, beta):\n",
    "    if alpha == beta:\n",
    "        return match_award\n",
    "    elif alpha == '-' or beta == '-':\n",
    "        return gap_penalty\n",
    "    else:\n",
    "        return mismatch_penalty"
   ]
  },
  {
   "cell_type": "code",
   "execution_count": 5,
   "metadata": {},
   "outputs": [],
   "source": [
    "def needleman_wunsch_Matrix(seq1, seq2):\n",
    "    \n",
    "    # length of two sequences\n",
    "    n = len(seq1)\n",
    "    m = len(seq2)  \n",
    "    \n",
    "    # Generate matrix of zeros to store scores\n",
    "    score = zeros(m+1, n+1)\n",
    "   \n",
    "    # Calculate score table\n",
    "    \n",
    "    # Your code goes here\n",
    "    \n",
    "    # Fill out first column\n",
    "    for i in range(0, m + 1):\n",
    "        score[i][0] = gap_penalty * i\n",
    "    # Fill out first row\n",
    "    for j in range(0, n + 1):\n",
    "        score[0][j] = gap_penalty * j\n",
    "    \n",
    "    # Fill out all other values in the score matrix\n",
    "    for i in range(1, m + 1):\n",
    "        for j in range(1, n + 1):\n",
    "            # Calculate the score by checking the top, left, and diagonal cells\n",
    "            match = score[i - 1][j - 1] + match_score(seq1[j-1], seq2[i-1])\n",
    "            delete = score[i - 1][j] + gap_penalty\n",
    "            insert = score[i][j - 1] + gap_penalty\n",
    "            # Record the maximum score from the three possible scores calculated above\n",
    "            score[i][j] = max(match, delete, insert)\n",
    "\n",
    "    return score"
   ]
  },
  {
   "cell_type": "code",
   "execution_count": 6,
   "metadata": {},
   "outputs": [
    {
     "name": "stdout",
     "output_type": "stream",
     "text": [
      "[[0, -1, -2, -3, -4, -5, -6, -7, -8], [-1, 2, 1, 0, -1, -2, -3, -4, -5], [-2, 1, 4, 3, 2, 1, 0, -1, -2], [-3, 0, 3, 3, 2, 1, 0, 2, 1], [-4, -1, 2, 2, 2, 4, 3, 2, 4]]\n"
     ]
    }
   ],
   "source": [
    "print(needleman_wunsch_Matrix(seq1, seq2))"
   ]
  },
  {
   "cell_type": "code",
   "execution_count": 7,
   "metadata": {},
   "outputs": [],
   "source": [
    "def needleman_wunsch(seq1, seq2):\n",
    "    \n",
    "    # Store length of two sequences\n",
    "    n = len(seq1)  \n",
    "    m = len(seq2)\n",
    "    \n",
    "    # Generate matrix of zeros to store scores\n",
    "    score = zeros(m+1, n+1)\n",
    "   \n",
    "    # Calculate score table\n",
    "    \n",
    "    # Fill out first column\n",
    "    for i in range(0, m + 1):\n",
    "        score[i][0] = gap_penalty * i\n",
    "    \n",
    "    # Fill out first row\n",
    "    for j in range(0, n + 1):\n",
    "        score[0][j] = gap_penalty * j\n",
    "    # Fill out all other values in the score matrix\n",
    "    for i in range(1, m + 1):\n",
    "        for j in range(1, n + 1):\n",
    "            # Calculate the score by checking the top, left, and diagonal cells\n",
    "            match = score[i - 1][j - 1] + match_score(seq1[j-1], seq2[i-1])\n",
    "            delete = score[i - 1][j] + gap_penalty\n",
    "            insert = score[i][j - 1] + gap_penalty\n",
    "            # Record the maximum score from the three possible scores calculated above\n",
    "            score[i][j] = max(match, delete, insert)\n",
    "    \n",
    "    # Traceback and compute the alignment \n",
    "    \n",
    "    # Create variables to store alignment\n",
    "    align1 = \"\"\n",
    "    align2 = \"\"\n",
    "    \n",
    "    # Start from the bottom right cell in matrix\n",
    "    i = m\n",
    "    j = n\n",
    "    # We'll use i and j to keep track of where we are in the matrix, just like above\n",
    "    while i > 0 and j > 0: # end touching the top or the left edge\n",
    "        score_current = score[i][j]\n",
    "        score_diagonal = score[i-1][j-1]\n",
    "        score_up = score[i][j-1]\n",
    "        score_left = score[i-1][j]\n",
    "        \n",
    "        # Check to figure out which cell the current score was calculated from,\n",
    "        # then update i and j to correspond to that cell.\n",
    "        if score_current == score_diagonal + match_score(seq1[j-1], seq2[i-1]):\n",
    "            align1 += seq1[j-1]\n",
    "            align2 += seq2[i-1]\n",
    "            i -= 1\n",
    "            j -= 1\n",
    "        elif score_current == score_up + gap_penalty:\n",
    "            align1 += seq1[j-1]\n",
    "            align2 += '-'\n",
    "            j -= 1\n",
    "        elif score_current == score_left + gap_penalty:\n",
    "            align1 += '-'\n",
    "            align2 += seq2[i-1]\n",
    "            i -= 1\n",
    "    # Finish tracing up to the top left cell\n",
    "    while j > 0:\n",
    "        align1 += seq1[j-1]\n",
    "        align2 += '-'\n",
    "        j -= 1\n",
    "    while i > 0:\n",
    "        align1 += '-'\n",
    "        align2 += seq2[i-1]\n",
    "        i -= 1\n",
    "    \n",
    "    # Since we traversed the score matrix from the bottom right, our two sequences will be reversed.\n",
    "    # These two lines reverse the order of the characters in each sequence.\n",
    "    align1 = align1[::-1]\n",
    "    align2 = align2[::-1]\n",
    "    \n",
    "    return(align1, align2)\n"
   ]
  },
  {
   "cell_type": "code",
   "execution_count": 8,
   "metadata": {},
   "outputs": [],
   "source": [
    "output1, output2 = needleman_wunsch(seq1, seq2)"
   ]
  },
  {
   "cell_type": "code",
   "execution_count": 9,
   "metadata": {},
   "outputs": [
    {
     "name": "stdout",
     "output_type": "stream",
     "text": [
      "ATTACAGC\n",
      "A-T---GC\n"
     ]
    }
   ],
   "source": [
    "print(output1 + \"\\n\" + output2)"
   ]
  },
  {
   "cell_type": "code",
   "execution_count": null,
   "metadata": {},
   "outputs": [],
   "source": []
  }
 ],
 "metadata": {
  "kernelspec": {
   "display_name": "Python 3",
   "language": "python",
   "name": "python3"
  },
  "language_info": {
   "codemirror_mode": {
    "name": "ipython",
    "version": 3
   },
   "file_extension": ".py",
   "mimetype": "text/x-python",
   "name": "python",
   "nbconvert_exporter": "python",
   "pygments_lexer": "ipython3",
   "version": "3.7.3"
  }
 },
 "nbformat": 4,
 "nbformat_minor": 2
}
