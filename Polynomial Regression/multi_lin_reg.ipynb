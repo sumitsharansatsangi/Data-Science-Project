{
 "cells": [
  {
   "cell_type": "code",
   "execution_count": 68,
   "metadata": {},
   "outputs": [],
   "source": [
    "import numpy as np\n",
    "import pandas as pd\n",
    "import matplotlib.pyplot as plt\n",
    "from sklearn.model_selection import train_test_split"
   ]
  },
  {
   "cell_type": "code",
   "execution_count": 69,
   "metadata": {},
   "outputs": [],
   "source": [
    "def gradient_descent(x,y):\n",
    "  n_iter=500\n",
    "  m=len(x)\n",
    "  l_rate=0.0000001\n",
    "  j_list=[]\n",
    "  iter_list=[]\n",
    "  theta_1=[3,3,3,3,3]\n",
    "  theta_1=np.array(theta_1)\n",
    "  for i in range(n_iter):\n",
    "    y_pred=(theta_1.T.dot(x.T))                                                                                                                                                                                                                                                                                                                                                         \n",
    "    j_theta=(np.sum((y-y_pred)**2))/(2*m)\n",
    "    j_list.append(j_theta)\n",
    "    iter_list.append(i)\n",
    "    grad_theta_1=(-2/m)*sum(x.T.dot(y-y_pred))\n",
    "    grad_theta_0=(-2/m)*sum(y-y_pred)\n",
    "    theta_1=theta_1-l_rate*grad_theta_1\n",
    "  return(iter_list,j_list,theta_1)"
   ]
  },
  {
   "cell_type": "code",
   "execution_count": 70,
   "metadata": {},
   "outputs": [
    {
     "name": "stdout",
     "output_type": "stream",
     "text": [
      "Coefficients are \n",
      " theta :[0.39106345 0.39106345 0.39106345 0.39106345 0.39106345] \n"
     ]
    }
   ],
   "source": [
    "df=pd.read_csv(\"train.csv\")\n",
    "df=pd.DataFrame(df)\n",
    "y=df[\"PE\"] \n",
    "x=np.matrix([np.ones(len(y)),df[\"AT\"],df[\"V\"],df[\"AP\"],df[\"RH\"]])\n",
    "x=pd.DataFrame(x)\n",
    "x=x.T\n",
    "a=gradient_descent(x,y)\n",
    "print(\"Coefficients are \\n theta :{} \".format(a[2]))\n"
   ]
  },
  {
   "cell_type": "code",
   "execution_count": 71,
   "metadata": {},
   "outputs": [
    {
     "name": "stdout",
     "output_type": "stream",
     "text": [
      "Plot between no of iteration and error\n"
     ]
    },
    {
     "data": {
      "image/png": "[encoded data removed]",
      "text/plain": [
       "<Figure size 432x288 with 1 Axes>"
      ]
     },
     "metadata": {},
     "output_type": "display_data"
    }
   ],
   "source": [
    "print(\"Plot between no of iteration and error\")\n",
    "plt.plot(a[0],a[1])\n",
    "plt.show()"
   ]
  },
  {
   "cell_type": "code",
   "execution_count": 72,
   "metadata": {},
   "outputs": [
    {
     "name": "stdout",
     "output_type": "stream",
     "text": [
      "Predicted value for test.csv are:\n"
     ]
    },
    {
     "data": {
      "text/plain": [
       "0      415.798212\n",
       "1      413.971946\n",
       "2      419.736221\n",
       "3      423.013333\n",
       "4      415.504915\n",
       "5      415.242902\n",
       "6      423.764175\n",
       "7      433.904450\n",
       "8      420.232872\n",
       "9      434.182105\n",
       "10     421.683717\n",
       "11     418.453533\n",
       "12     421.042373\n",
       "13     437.736872\n",
       "14     420.307174\n",
       "15     423.959707\n",
       "16     421.390420\n",
       "17     429.372025\n",
       "18     428.511685\n",
       "19     417.816100\n",
       "20     434.338531\n",
       "21     432.918970\n",
       "22     428.460847\n",
       "23     432.355839\n",
       "24     430.744658\n",
       "25     423.596018\n",
       "26     433.016736\n",
       "27     415.594859\n",
       "28     421.339582\n",
       "29     423.470877\n",
       "          ...    \n",
       "170    421.593773\n",
       "171    417.913866\n",
       "172    430.248007\n",
       "173    429.974263\n",
       "174    436.598877\n",
       "175    420.643489\n",
       "176    432.187682\n",
       "177    416.169723\n",
       "178    427.549669\n",
       "179    419.986502\n",
       "180    432.703885\n",
       "181    424.526749\n",
       "182    436.939103\n",
       "183    419.810523\n",
       "184    433.388246\n",
       "185    435.546917\n",
       "186    417.350734\n",
       "187    419.501583\n",
       "188    433.837969\n",
       "189    435.179317\n",
       "190    415.454077\n",
       "191    437.822906\n",
       "192    430.744658\n",
       "193    415.485362\n",
       "194    432.015614\n",
       "195    432.621762\n",
       "196    416.298774\n",
       "197    425.207199\n",
       "198    422.821712\n",
       "199    431.065330\n",
       "Length: 200, dtype: float64"
      ]
     },
     "execution_count": 72,
     "metadata": {},
     "output_type": "execute_result"
    }
   ],
   "source": [
    "df1=pd.read_csv(\"test.csv\")\n",
    "df1=pd.DataFrame(df1)\n",
    "x=np.matrix([np.ones(len(y)),df1[\"AT\"],df1[\"V\"],df1[\"AP\"],df1[\"RH\"]])\n",
    "x=pd.DataFrame(x)\n",
    "h=a[2][0]*x[0]+a[2][1]*x[1]+a[2][2]*x[2]+a[2][3]*x[3]+a[2][4]\n",
    "h=h[0]\n",
    "h=h[0]\n",
    "print(\"Predicted value for test.csv are:\")\n",
    "h"
   ]
  },
  {
   "cell_type": "code",
   "execution_count": null,
   "metadata": {},
   "outputs": [],
   "source": []
  }
 ],
 "metadata": {
  "kernelspec": {
   "display_name": "Python 3",
   "language": "python",
   "name": "python3"
  },
  "language_info": {
   "codemirror_mode": {
    "name": "ipython",
    "version": 3
   },
   "file_extension": ".py",
   "mimetype": "text/x-python",
   "name": "python",
   "nbconvert_exporter": "python",
   "pygments_lexer": "ipython3",
   "version": "3.6.5"
  }
 },
 "nbformat": 4,
 "nbformat_minor": 2
}
