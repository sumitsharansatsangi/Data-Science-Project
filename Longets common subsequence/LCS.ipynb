{
 "cells": [
  {
   "cell_type": "code",
   "execution_count": 78,
   "metadata": {},
   "outputs": [],
   "source": [
    "import numpy as np\n",
    "def lcs(st1, st2):\n",
    "    s =\"\"\n",
    "    st1=''.join([i for i in st1 if i.isalpha()]).lower()\n",
    "    st2=''.join([i for i in st2 if i.isalpha()]).lower()\n",
    "    l1=len(st1)+1\n",
    "    l2=len(st2)+1\n",
    "    LCS = [[0 for x in range(l2)] for y in range(l1)]\n",
    "    for i in range(1,l1):\n",
    "        for j in range(1,l2):\n",
    "            if st1[i-1]==st2[j-1]:\n",
    "                LCS[i][j]=1+LCS[i-1][j-1]\n",
    "            else:\n",
    "                LCS[i][j]=max((LCS[i-1][j])-1,(LCS[i][j-1])-1,(LCS[i-1][j-1])-1,0)\n",
    "    c=np.argsort(LCS[l1-1])[::-1][:1]\n",
    "    r=np.argsort(LCS[l2-1])[::-1][:1]\n",
    "    if(LCS[l1-1][c[0]]>LCS[r[0]][l2-1]):\n",
    "        l2=c[0]+1\n",
    "    else:\n",
    "        l1=r[0]+1\n",
    "    s=backtrack(LCS,st1,st2,l1-1,l2-1) \n",
    "    return LCS,s\n",
    "\n",
    "def backtrack(C,X,Y,i,j):\n",
    "    if i == 0 or j == 0:\n",
    "        return \"\"\n",
    "    if X[i-1] == Y[j-1]:\n",
    "        return backtrack(C, X, Y, i-1, j-1) + X[i-1]\n",
    "    elif C[i][j-1] >= C[i-1][j] and C[i][j-1]>=C[i-1][j-1]:\n",
    "        return backtrack(C, X, Y, i, j-1)\n",
    "    elif C[i-1][j]>=C[i][j-1] and C[i-1][j]>=C[i-1][j-1]:\n",
    "        return backtrack(C, X, Y, i-1, j)\n",
    "    else:\n",
    "        return backtrack(C, X, Y, i-1, j-1)"
   ]
  },
  {
   "cell_type": "code",
   "execution_count": 79,
   "metadata": {},
   "outputs": [
    {
     "data": {
      "text/plain": [
       "([[0, 0, 0, 0, 0, 0, 0],\n",
       "  [0, 1, 0, 1, 0, 0, 0],\n",
       "  [0, 0, 2, 1, 2, 1, 0],\n",
       "  [0, 1, 1, 3, 2, 1, 0],\n",
       "  [0, 0, 2, 2, 4, 3, 2],\n",
       "  [0, 0, 1, 1, 3, 5, 4],\n",
       "  [0, 0, 0, 0, 2, 4, 6],\n",
       "  [0, 1, 0, 1, 1, 3, 5],\n",
       "  [0, 0, 0, 0, 0, 2, 4],\n",
       "  [0, 0, 1, 0, 1, 1, 3],\n",
       "  [0, 0, 0, 0, 0, 0, 2]],\n",
       " 'acactg')"
      ]
     },
     "execution_count": 79,
     "metadata": {},
     "output_type": "execute_result"
    }
   ],
   "source": [
    "lcs(\"ACACTGATCG\",\"ACACTG\")"
   ]
  },
  {
   "cell_type": "code",
   "execution_count": 80,
   "metadata": {},
   "outputs": [
    {
     "data": {
      "text/plain": [
       "([[0, 0, 0, 0, 0, 0, 0, 0, 0, 0, 0, 0, 0, 0, 0, 0, 0],\n",
       "  [0, 0, 0, 0, 0, 0, 0, 1, 0, 0, 0, 0, 0, 0, 1, 0, 1],\n",
       "  [0, 0, 0, 0, 0, 0, 0, 1, 0, 0, 0, 0, 0, 0, 1, 0, 1],\n",
       "  [0, 0, 1, 0, 0, 0, 0, 0, 0, 0, 0, 0, 0, 0, 0, 0, 0],\n",
       "  [0, 0, 1, 0, 0, 0, 0, 0, 0, 0, 0, 0, 0, 0, 0, 0, 0],\n",
       "  [0, 0, 0, 0, 0, 0, 0, 0, 0, 0, 0, 0, 0, 0, 0, 0, 0],\n",
       "  [0, 0, 0, 0, 0, 0, 0, 0, 0, 1, 0, 0, 1, 0, 0, 0, 0],\n",
       "  [0, 0, 0, 0, 0, 1, 0, 0, 0, 0, 2, 1, 0, 2, 1, 0, 0],\n",
       "  [0, 0, 0, 1, 0, 0, 0, 0, 0, 0, 1, 3, 2, 1, 1, 0, 0],\n",
       "  [0, 0, 0, 0, 0, 0, 0, 0, 0, 1, 0, 2, 4, 3, 2, 1, 0],\n",
       "  [0, 0, 0, 0, 0, 1, 0, 0, 0, 0, 2, 1, 3, 5, 4, 3, 2],\n",
       "  [0, 0, 0, 0, 0, 0, 0, 0, 1, 0, 1, 1, 2, 4, 4, 5, 4],\n",
       "  [0, 0, 0, 0, 0, 0, 0, 1, 0, 0, 0, 0, 1, 3, 5, 4, 6],\n",
       "  [0, 0, 0, 0, 0, 0, 0, 0, 0, 1, 0, 0, 1, 2, 4, 4, 5],\n",
       "  [0, 0, 0, 0, 0, 0, 0, 0, 0, 1, 0, 0, 1, 1, 3, 3, 4],\n",
       "  [0, 0, 0, 1, 0, 0, 0, 0, 0, 0, 0, 1, 0, 0, 2, 2, 3],\n",
       "  [0, 0, 0, 0, 0, 1, 0, 0, 0, 0, 1, 0, 0, 1, 1, 1, 2],\n",
       "  [0, 0, 0, 0, 0, 0, 0, 0, 0, 1, 0, 0, 1, 0, 0, 0, 1],\n",
       "  [0, 0, 0, 0, 0, 0, 0, 0, 1, 0, 0, 0, 0, 0, 0, 1, 0],\n",
       "  [0, 0, 0, 0, 0, 0, 0, 1, 0, 0, 0, 0, 0, 0, 1, 0, 2],\n",
       "  [0, 1, 0, 0, 0, 0, 1, 0, 0, 0, 0, 0, 0, 0, 0, 0, 1],\n",
       "  [0, 0, 2, 1, 0, 0, 0, 0, 0, 0, 0, 0, 0, 0, 0, 0, 0],\n",
       "  [0, 0, 1, 1, 0, 0, 0, 0, 1, 0, 0, 0, 0, 0, 0, 1, 0]],\n",
       " 'chjbhjta')"
      ]
     },
     "execution_count": 80,
     "metadata": {},
     "output_type": "execute_result"
    }
   ],
   "source": [
    "lcs(\"AACCvhjbhjTAhhbjhTAGCT\",\"GCbkjGAThjbhjATA\")"
   ]
  },
  {
   "cell_type": "code",
   "execution_count": 74,
   "metadata": {},
   "outputs": [
    {
     "name": "stdout",
     "output_type": "stream",
     "text": [
      "c\n",
      "t\n",
      "a\n",
      "t\n",
      "a\n"
     ]
    }
   ],
   "source": [
    "for i in p:\n",
    "    print(i)"
   ]
  },
  {
   "cell_type": "code",
   "execution_count": 25,
   "metadata": {},
   "outputs": [],
   "source": [
    "X=[1,4,5,2]\n",
    "a=np.argsort(X)[::-1][:1]"
   ]
  },
  {
   "cell_type": "code",
   "execution_count": 21,
   "metadata": {},
   "outputs": [
    {
     "data": {
      "text/plain": [
       "2"
      ]
     },
     "execution_count": 21,
     "metadata": {},
     "output_type": "execute_result"
    }
   ],
   "source": [
    "a[0]"
   ]
  },
  {
   "cell_type": "code",
   "execution_count": null,
   "metadata": {},
   "outputs": [],
   "source": []
  }
 ],
 "metadata": {
  "kernelspec": {
   "display_name": "Python 3",
   "language": "python",
   "name": "python3"
  },
  "language_info": {
   "codemirror_mode": {
    "name": "ipython",
    "version": 3
   },
   "file_extension": ".py",
   "mimetype": "text/x-python",
   "name": "python",
   "nbconvert_exporter": "python",
   "pygments_lexer": "ipython3",
   "version": "3.7.3"
  }
 },
 "nbformat": 4,
 "nbformat_minor": 2
}
