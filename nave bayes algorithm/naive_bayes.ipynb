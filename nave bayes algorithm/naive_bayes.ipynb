{
 "cells": [
  {
   "cell_type": "markdown",
   "metadata": {},
   "source": [
    "# Importing Library"
   ]
  },
  {
   "cell_type": "code",
   "execution_count": 2,
   "metadata": {},
   "outputs": [],
   "source": [
    "import numpy as np\n",
    "import pandas as pd\n",
    "import math"
   ]
  },
  {
   "cell_type": "markdown",
   "metadata": {},
   "source": [
    "## Loading Dataset"
   ]
  },
  {
   "cell_type": "code",
   "execution_count": 3,
   "metadata": {},
   "outputs": [],
   "source": [
    "df=pd.read_csv(\"train.csv\")\n",
    "df=pd.DataFrame(df)\n",
    "y_train=df[\"TARGET_5Yrs\"] \n",
    "df1=df.drop([\"Id\"],axis=1)\n",
    "df1=df1.drop([\"Name\"],axis=1)\n",
    "df1=df1.fillna(0.0)\n",
    "df1=df1.drop([\"TARGET_5Yrs\"],axis=1)\n",
    "df2=np.array(df1)\n",
    "df2=pd.DataFrame(df2)\n",
    "#df1.insert(0, 'init',1)"
   ]
  },
  {
   "cell_type": "markdown",
   "metadata": {},
   "source": [
    "## Probability calculator"
   ]
  },
  {
   "cell_type": "code",
   "execution_count": 4,
   "metadata": {},
   "outputs": [],
   "source": [
    "def prob(x,m,s):\n",
    "    l0=x.shape[0]\n",
    "    pi=math.pi\n",
    "    mv=[m]*l0\n",
    "    mv=pd.DataFrame(mv)\n",
    "    return(1/(np.sqrt(2*math.pi)*s))*(np.exp(-((1/2)*(((x-mv)/s)**2))))"
   ]
  },
  {
   "cell_type": "markdown",
   "metadata": {},
   "source": [
    "## Naive Bayes Function"
   ]
  },
  {
   "cell_type": "code",
   "execution_count": 5,
   "metadata": {},
   "outputs": [],
   "source": [
    "def naive(x,y):\n",
    "    l1=df2.shape[1]\n",
    "    l0=df2.shape[0]\n",
    "    mean0=x[y==0].mean()\n",
    "    mean1=x[y==1].mean()\n",
    "    sd0=x[y==0].std()\n",
    "    sd1=x[y==1].std()\n",
    "    p0=prob(x,mean0,sd0)\n",
    "    p1=prob(x,mean1,sd1)\n",
    "    return(p0,p1)\n",
    "    "
   ]
  },
  {
   "cell_type": "code",
   "execution_count": 6,
   "metadata": {},
   "outputs": [],
   "source": [
    "yd=pd.DataFrame(np.array(y_train))\n",
    "p=naive(df2,y_train)\n",
    "a=p[0]\n",
    "b=p[1]"
   ]
  },
  {
   "cell_type": "code",
   "execution_count": 7,
   "metadata": {},
   "outputs": [
    {
     "data": {
      "text/plain": [
       "17"
      ]
     },
     "execution_count": 7,
     "metadata": {},
     "output_type": "execute_result"
    }
   ],
   "source": [
    "p=[1]*943\n",
    "for i in range(19):\n",
    "    for j in range(943):\n",
    "       p[i]=p[i]*a[i][j]\n",
    "p.count(0)"
   ]
  },
  {
   "cell_type": "code",
   "execution_count": 8,
   "metadata": {},
   "outputs": [
    {
     "data": {
      "text/plain": [
       "16"
      ]
     },
     "execution_count": 8,
     "metadata": {},
     "output_type": "execute_result"
    }
   ],
   "source": [
    "p1=[1]*943\n",
    "for i in range(19):\n",
    "    for j in range(943):\n",
    "       p1[i]=p1[i]*b[i][j]\n",
    "p1.count(0)"
   ]
  },
  {
   "cell_type": "code",
   "execution_count": 9,
   "metadata": {},
   "outputs": [],
   "source": [
    "pdf=pd.DataFrame(p)\n",
    "dif1=np.array(yd)\n",
    "dif2=np.array(pdf)"
   ]
  },
  {
   "cell_type": "code",
   "execution_count": 10,
   "metadata": {},
   "outputs": [],
   "source": [
    "def getAccuracy(testSet, predictions):\n",
    "    correct = 0\n",
    "    for i in range(len(testSet)):\n",
    "       if testSet[i] == predictions[i]:\n",
    "           correct += 1\n",
    "    return (correct/float(len(testSet))) * 100.0"
   ]
  },
  {
   "cell_type": "code",
   "execution_count": 11,
   "metadata": {},
   "outputs": [
    {
     "data": {
      "text/plain": [
       "62.990455991516434"
      ]
     },
     "execution_count": 11,
     "metadata": {},
     "output_type": "execute_result"
    }
   ],
   "source": [
    "ac=getAccuracy(dif1,dif2)\n",
    "ac"
   ]
  },
  {
   "cell_type": "code",
   "execution_count": null,
   "metadata": {},
   "outputs": [],
   "source": []
  }
 ],
 "metadata": {
  "kernelspec": {
   "display_name": "Python 3",
   "language": "python",
   "name": "python3"
  },
  "language_info": {
   "codemirror_mode": {
    "name": "ipython",
    "version": 3
   },
   "file_extension": ".py",
   "mimetype": "text/x-python",
   "name": "python",
   "nbconvert_exporter": "python",
   "pygments_lexer": "ipython3",
   "version": "3.7.1"
  }
 },
 "nbformat": 4,
 "nbformat_minor": 2
}
